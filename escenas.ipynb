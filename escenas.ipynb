{
 "cells": [
  {
   "cell_type": "code",
   "execution_count": 2,
   "metadata": {},
   "outputs": [],
   "source": [
    "import pandas as pd\n",
    "import sympy as sp\n",
    "import mpmath as mp \n",
    "import numpy as np\n",
    "from scipy.fft import fft, ifft\n",
    "from latex2sympy2 import latex2sympy, latex2latex\n",
    "from manim import *\n",
    "import calendar\n",
    "import random\n",
    "import matplotlib.pyplot as plt\n",
    "from matplotlib.path import Path\n",
    "from matplotlib import cm\n",
    "from mpl_toolkits.mplot3d import Axes3D\n",
    "from matplotlib import image\n",
    "import matplotlib.animation as animation\n",
    "from matplotlib.animation import FuncAnimation, FFMpegWriter\n",
    "from manim_voiceover import VoiceoverScene\n",
    "from manim_voiceover.services.recorder import RecorderService\n",
    "from manim_voiceover.services.gtts import GTTSService\n",
    "import warnings\n",
    "warnings.filterwarnings(\"ignore\")\n",
    "config.media_width = \"100%\"\n",
    "config.verbosity = \"WARNING\"\n",
    "import compass_functions as cf\n",
    "from sympy import symbols, Eq, latex, sqrt,solve ,Function \n",
    "from sympy import   I, simplify, expand , print_latex,init_printing\n",
    "from sympy import Symbol, sin,cos,arg,exp ,integrate,Derivative,Integral  \n",
    "from sympy.utilities.lambdify import lambdify\n",
    "sp.init_printing()\n",
    "from IPython.display import Markdown as md\n",
    "#DSP con placa de audio \n",
    "import sounddevice as sd\n",
    "# Ajustes del fondo de plot para matplotlib \n",
    "plt.rcParams.update({\n",
    "        \"lines.color\": \"black\",\n",
    "        \"patch.edgecolor\": \"black\",\n",
    "        \"text.color\": \"white\",\n",
    "        \"axes.facecolor\": \"black\",\n",
    "        \"axes.edgecolor\": \"black\",\n",
    "        \"axes.labelcolor\": \"black\",\n",
    "        \"xtick.color\": \"white\",\n",
    "        \"ytick.color\": \"white\",\n",
    "        \"grid.color\": \"white\",\n",
    "        \"figure.facecolor\": \"black\",\n",
    "        \"figure.edgecolor\": \"black\",\n",
    "        \"savefig.facecolor\": \"black\",\n",
    "        \"savefig.edgecolor\": \"black\"})\n",
    "\n"
   ]
  },
  {
   "cell_type": "markdown",
   "metadata": {},
   "source": [
    "## Definiciones Sympy"
   ]
  },
  {
   "cell_type": "code",
   "execution_count": 3,
   "metadata": {},
   "outputs": [
    {
     "data": {
      "image/png": "[encoded data removed]",
      "text/latex": [
       "$\\displaystyle \\sqrt{13}$"
      ],
      "text/plain": [
       "√13"
      ]
     },
     "execution_count": 3,
     "metadata": {},
     "output_type": "execute_result"
    }
   ],
   "source": [
    "# Símbolos típicos definidos como reales o complejos\n",
    "t=sp.Symbol('t',real=True)\n",
    "i=sp.I #Constante imaginaria símbólica sqrt(-1)\n",
    "pi=sp.pi # Pi en foma simbólica dentro de sympy\n",
    "T_p=sp.Symbol('T',real=True) # Período usado en la expresión de omega\n",
    "omega=sp.Symbol('omega',real=True)\n",
    "omega_eq=sp.Equality(omega,2*pi/T_p)\n",
    "Omega=sp.Symbol('Omega',complex=True)\n",
    "theta=sp.Symbol('theta',real=True)\n",
    "Theta=sp.Symbol('Theta',complex=True)\n",
    "R=sp.Symbol('R',real=True)\n",
    "L=sp.Symbol('R',real=True)\n",
    "\n",
    "tau=sp.Symbol('tau',real=True)\n",
    "tau_eq=sp.Equality(tau,2*pi)\n",
    "\n",
    "cplx_exp_rect = cos(t)+i*sin(t)\n",
    "cplx_exp_polar=exp(i*t) \n",
    "sp.simplify(sp.sqrt(sp.conjugate(3+2*i)*(3+2*i)))"
   ]
  },
  {
   "cell_type": "code",
   "execution_count": 4,
   "metadata": {},
   "outputs": [
    {
     "data": {
      "image/png": "[encoded data removed]",
      "text/latex": [
       "$\\displaystyle 1 \\cdot \\frac{1}{2 \\sin{\\left(\\frac{\\pi}{N} \\right)}}$"
      ],
      "text/plain": [
       "     1    \n",
       "1⋅────────\n",
       "       ⎛π⎞\n",
       "  2⋅sin⎜─⎟\n",
       "       ⎝N⎠"
      ]
     },
     "execution_count": 4,
     "metadata": {},
     "output_type": "execute_result"
    }
   ],
   "source": [
    "# serie_fourier_t_continuo_tex_rhs=r\" \\sum_{k=0}^{N-1}c_k e^{i \\omega k n}\"\n",
    "# serie_fourier_tc=latex2sympy(serie_fourier_t_continuo_tex)\n",
    "\n",
    "R_N_tex= r\"\\frac{1}{2 \\sin{\\frac{\\pi}{N}}})\"\n",
    "R_N=latex2sympy(R_N_tex )\n",
    "R_N\n"
   ]
  },
  {
   "cell_type": "code",
   "execution_count": 5,
   "metadata": {},
   "outputs": [
    {
     "data": {
      "image/png": "[encoded data removed]",
      "text/latex": [
       "$\\displaystyle \\left(\\frac{x}{a}\\right)^{2} + \\left(\\frac{y}{b}\\right)^{2} = 1$"
      ],
      "text/plain": [
       "   2      2    \n",
       "⎛x⎞    ⎛y⎞     \n",
       "⎜─⎟  + ⎜─⎟  = 1\n",
       "⎝a⎠    ⎝b⎠     "
      ]
     },
     "execution_count": 5,
     "metadata": {},
     "output_type": "execute_result"
    }
   ],
   "source": [
    "a=sp.Symbol('a',real=True)\n",
    "b=sp.Symbol('b',real=True)\n",
    "ElipseImplicita_tex=r\"\\left(\\frac{x}{a}\\right)^2+\\left(\\frac{y}{b}\\right)^2\"\n",
    "\n",
    "ElipseImplicita_sympy=sp.Eq(latex2sympy(ElipseImplicita_tex),1)\n",
    "ElipseImplicita_sympy"
   ]
  },
  {
   "cell_type": "code",
   "execution_count": 6,
   "metadata": {},
   "outputs": [
    {
     "data": {
      "image/png": "[encoded data removed]",
      "text/latex": [
       "$\\displaystyle F = \\sqrt{a^{2} - b^{2}}$"
      ],
      "text/plain": [
       "       _________\n",
       "      ╱  2    2 \n",
       "F = ╲╱  a  - b  "
      ]
     },
     "execution_count": 6,
     "metadata": {},
     "output_type": "execute_result"
    }
   ],
   "source": [
    "F=sp.Symbol('F',complex=True)\n",
    "foco_ab_tex=r\"  \\sqrt{a^2-b^2} \"\n",
    "foco_ab_sympy=sp.Equality(F,latex2sympy(foco_ab_tex))\n",
    "foco_ab_sympy"
   ]
  },
  {
   "cell_type": "code",
   "execution_count": 74,
   "metadata": {},
   "outputs": [
    {
     "data": {
      "image/png": "[encoded data removed]",
      "text/latex": [
       "$\\displaystyle 3 e^{i t} + e^{- i t}$"
      ],
      "text/plain": [
       "   ⅈ⋅t    -ⅈ⋅t\n",
       "3⋅ℯ    + ℯ    "
      ]
     },
     "execution_count": 74,
     "metadata": {},
     "output_type": "execute_result"
    }
   ],
   "source": [
    "t=sp.Symbol('t',real=True)\n",
    "i=sp.I #Constante imaginaria símbólica sqrt(-1)\n",
    "pi=sp.pi # Pi en foma simbólica dentro de sympy\n",
    "phi=sp.GoldenRatio\n",
    "\n",
    "# Defino la función en SymPy\n",
    "#a=sp.Rational(1,2)*(1+i)\n",
    "a=sp.Integer(4)  \n",
    "b=sp.Integer(2)\n",
    "R_add=sp.Rational(a+b,2)\n",
    "R_subs=sp.Rational(a-b,2)\n",
    "Elipse_21_compas=R_add*exp(i*t)+R_subs*exp(-i*t) \n",
    "# Obtengo su expresión en LaTex\n",
    "Elipse_21_latex=latex(Elipse_21_compas)\n",
    "Elipse_21_compas"
   ]
  },
  {
   "cell_type": "code",
   "execution_count": null,
   "metadata": {},
   "outputs": [],
   "source": []
  },
  {
   "cell_type": "markdown",
   "metadata": {},
   "source": [
    "## Posiciones Manim"
   ]
  },
  {
   "cell_type": "code",
   "execution_count": 7,
   "metadata": {},
   "outputs": [
    {
     "data": {
      "image/png": "[encoded data removed]",
      "text/plain": [
       "<IPython.core.display.Image object>"
      ]
     },
     "metadata": {},
     "output_type": "display_data"
    }
   ],
   "source": [
    "%%manim -qh MostrarTex\n",
    "x=Symbol('x',complex='True')\n",
    "y=Symbol('y',complex='True')\n",
    "Theta_omega_t= sp.Equality(Theta**(omega*t),exp(i*omega*t))\n",
    "Theta_t= sp.Equality(Theta**t,exp(i*t))\n",
    "phi_relation=Eq(x**2-y**2,x*y)\n",
    "cplx_phi_relation=Eq(x**2+y**2,x*y)\n",
    "\n",
    "TexLeft=MathTex(latex(cplx_exp_rect**omega)).to_edge(LEFT)\n",
    "TexRight=MathTex(latex(cplx_exp_polar**omega)).to_edge(RIGHT)\n",
    "TexCenter=MathTex(latex(Theta_omega_t))\n",
    "TexUL=MathTex(latex(phi_relation)).to_edge(UL)\n",
    "TexUR=MathTex(latex(cplx_phi_relation)).to_edge(UR)\n",
    "TexDL=MathTex(latex(solve(phi_relation,x))).to_corner(DL)\n",
    "TexDR=MathTex(latex(solve(cplx_phi_relation,x))).to_corner(DR)\n",
    "\n",
    "Center_scale=1.8\n",
    "Right_scale=0.6\n",
    "Left_scale=0.6\n",
    "UL_scale=1.2\n",
    "UR_scale=1.2\n",
    "DL_scale=0.65\n",
    "DR_scale=0.65\n",
    "\n",
    "class MostrarTex(Scene):\n",
    "    def construct(self):      \n",
    "        self.add(TexRight.scale(Right_scale))\n",
    "        self.add(TexLeft.scale(Left_scale))\n",
    "        self.add(TexCenter.scale(Center_scale))\n",
    "        self.add(TexUL.scale(UL_scale))\n",
    "        self.add(TexUR.scale(UR_scale))       \n",
    "        self.add(TexDL.scale(DL_scale))\n",
    "        self.add(TexDR.scale(DR_scale))"
   ]
  },
  {
   "cell_type": "markdown",
   "metadata": {},
   "source": [
    "# Escenas usadas"
   ]
  },
  {
   "cell_type": "markdown",
   "metadata": {},
   "source": [
    "## Primera Escena\n",
    "\n",
    "Aquí un ejemplo de escena simple de LaTex con Voiceover desde texto ."
   ]
  },
  {
   "cell_type": "code",
   "execution_count": 8,
   "metadata": {},
   "outputs": [
    {
     "name": "stderr",
     "output_type": "stream",
     "text": [
      "                                                                                                                                                                                                                          \r"
     ]
    },
    {
     "data": {
      "text/html": [
       "<video src=\"media/jupyter/TituloPortada@2023-09-14@15-08-09.mp4\" controls autoplay loop style=\"max-width: 100%;\"  >\n",
       "      Your browser does not support the <code>video</code> element.\n",
       "    </video>"
      ],
      "text/plain": [
       "<IPython.core.display.Video object>"
      ]
     },
     "metadata": {},
     "output_type": "display_data"
    }
   ],
   "source": [
    "%%manim -qh TituloPortada\n",
    "k_tiempo=2\n",
    "esperar=3\n",
    "Titulo=r\"\"\"\n",
    "Si Ptolomeo  hubiese conocido a Fourier.\n",
    "\n",
    "$$\\zeta ^ t=  R_{_{_+}} \\Theta^{\\omega_{\\alpha} t} +R_{_{_-}} \\Theta^{-\\omega_{\\beta} t}$$\n",
    "\n",
    " \n",
    "\n",
    "\"\"\"\n",
    "VoiceTitulo=\"Hola, bienvenidos al planeta matemático llamado Tau\"\n",
    "class TituloPortada(VoiceoverScene):\n",
    "    def construct(self):\n",
    "        self.set_speech_service(GTTSService(lang=\"es\", tld=\"com\",gender=\"male\", accent=\"us\"))\n",
    "        tex = Tex(Titulo, font_size=70)\n",
    "        with self.voiceover(text=VoiceTitulo) as tracker:\n",
    "            self.play(Write(tex), run_time=tracker.duration*k_tiempo)\n",
    "\n",
    "        #self.play(Write(tex))\n",
    "        self.wait(esperar)"
   ]
  },
  {
   "cell_type": "markdown",
   "metadata": {},
   "source": [
    "## 2da"
   ]
  },
  {
   "cell_type": "code",
   "execution_count": 102,
   "metadata": {},
   "outputs": [],
   "source": [
    "ficcion=r\"\"\" \n",
    "\n",
    "Ésta es una historia de ficción que tiene el objetivo de ayudar a ilustrar algunas intuiciones matemáticas que considero interesantes. \n",
    "\n",
    "\n",
    "$$ $$\n",
    "Se agregarán detalles que pueden ser de interés para estudiantes que por primera vez se enfrentan a ideas como La Serie de Fourier y les entregan unas fórmulas mágicas sin demasiado contexto. Éste es el contexto que a mi me hubiese gustado que me dieran cuando estudié estos temas. \n",
    "\n",
    "$$ $$\n",
    "En la descripción hay un link a el código fuente usado para la realización de éste contenido usando SymPy, Manim, NumPy, Matplotlib, y varias librerías de Python adecuadas tanto para el cálculo y la manipulación simbólica como también para la creación de contenido audiovisual en un workflow simplificado que me ha sido de utilidad,ya que vengo de la época en que se usaba Matlab en la universidad.\n",
    "\n",
    "$$ $$ \n",
    "Espero que el contenido compartido sea de utilidad para  divulgadores que se están iniciando en la creación de contenido\n",
    "\n",
    "\n",
    "\"\"\"\n"
   ]
  },
  {
   "cell_type": "code",
   "execution_count": 103,
   "metadata": {},
   "outputs": [
    {
     "name": "stderr",
     "output_type": "stream",
     "text": [
      "                                                                                                                                                                                                                                                                                                                                                                                                                                                                                                                                                                                                                                                                                                                                                                                                                                                                                                                                                                                                                                                                                                    \r"
     ]
    },
    {
     "data": {
      "text/html": [
       "<video src=\"media/jupyter/SegundaEscena@2023-09-14@19-31-33.mp4\" controls autoplay loop style=\"max-width: 100%;\"  >\n",
       "      Your browser does not support the <code>video</code> element.\n",
       "    </video>"
      ],
      "text/plain": [
       "<IPython.core.display.Video object>"
      ]
     },
     "metadata": {},
     "output_type": "display_data"
    }
   ],
   "source": [
    "%%manim -qh SegundaEscena\n",
    "texto_escena=Tex(ficcion).scale(0.45)\n",
    "texto_escena.arrange(center=True, aligned_edge=RIGHT)  \n",
    "class SegundaEscena(Scene):\n",
    "    def construct(self):\n",
    "        #self.add(texto_escena)\n",
    "        self.play(Write(texto_escena),run_time=6)\n",
    "        self.wait(12)\n",
    "        "
   ]
  },
  {
   "cell_type": "markdown",
   "metadata": {},
   "source": [
    "## Colección de Textos como variables para manim\n"
   ]
  },
  {
   "cell_type": "code",
   "execution_count": 104,
   "metadata": {},
   "outputs": [],
   "source": [
    "# Texto y Fórmulas a presentar con el plot\n",
    "\n",
    "\n",
    "ElipseOndas_0 = r\"\"\" \n",
    "\n",
    "¿Recuerdas la siguiente ecuación implícita?\n",
    "\n",
    "$$\\left(\\frac{x}{a}\\right)^2+\\left(\\frac{y}{b}\\right)^2=1$$ \n",
    "\n",
    "Siendo $a$ y $b$ los valores de los semiejes mayor y menor respectivamente. \n",
    "\n",
    "$$F_1=\\sqrt{a^2-b^2}$$\n",
    "\n",
    "$$F_2=-F_1$$\n",
    "\n",
    "Siendo $F_1$ y $F_2$ las distancias focales de la elipse. \n",
    "\n",
    "\n",
    "\n",
    "\"\"\"\n",
    "\n",
    "\n",
    "\n",
    "ElipseOndas_1=r\"\"\"\n",
    "\n",
    "Consideremos inicialmente una elipse centrada en el origen $z_o=0$ \n",
    "$$ $$ \n",
    "Veremos que ésta curva se puede ver como la composición  de dos acciones de rotación inversas o de dos ondas fundamentales.\n",
    "\n",
    "$z_o , R_{_+} , R_{_-} \\in \\mathbb{C}$  \n",
    "\n",
    "$t \\in \\mathbb{R}$    \n",
    "\n",
    "$k \\in \\mathbb{Z}$\n",
    "\n",
    "$$|R_{_+}|>|R_{_-}|$$  \n",
    "\n",
    "$$z(t)=z_o+ R_{_+} e^{it} +R_{_-} e^{-it}$$\n",
    "\"\"\"\n",
    "ElipseOndas_1b=r\"\"\"\n",
    "\n",
    "Si $z_o=0$ tenemos:\n",
    "\n",
    "$$z(t)=R_{_+} e^{it} +R_{_-} e^{-it}$$\n",
    "\n",
    "$$a=R_{_+}+R_{_-}$$ \n",
    "\n",
    "$$b=R_{_+}-R_{_-}$$\n",
    "\n",
    "$$z(t)=a\\cos{t}+i b \\sin{t}$$ \n",
    "\n",
    "$$F_{_{\\pm}}=\\pm 2\\sqrt{R_{_+}R_{_-}}=2 e^{i\\pi k} \\sqrt{R_{_+}R_{_-}}$$\n",
    "\n",
    "\"\"\"\n",
    "\n",
    "\n",
    "ElipseOndas_2=r\"\"\"  \n",
    "\n",
    "En Tau expresan la elipse de forma similar pero usando $\\Theta=e^i$\n",
    "\n",
    "$$z(t)=R_{_+} \\Theta^{t} +R_{_-} \\Theta^{-t}$$ \n",
    "\n",
    "Recordando que :\n",
    "\n",
    "$$ R_{_+} , R_{_-} \\in \\mathbb{C}$$  \n",
    "\n",
    "$$z(t)=R_{_+} e^{it} +R_{_-} e^{-it}$$ \n",
    "\n",
    "Y las posiciones de los focos en el plano complejo se pueden expresar como:\n",
    "\n",
    "$$F_{_{\\pm}}=2 e^{i\\pi k} \\sqrt{R_{_+}R_{_-}}$$\n",
    "\n",
    "Esto nos permite dibujar elipses desplazadas con bastante facilidad. \n",
    "\n",
    "\"\"\"\n",
    "\n",
    "\n",
    "ElipseOndas_3=r\"\"\"  \n",
    "\n",
    "Recordando que el coseno en si mismo es el \"promedio\" de dos acciones fundamentales :\n",
    "\n",
    "$$a \\cos(t)=a\\frac{e^{it}+e^{-it}}{2}$$\n",
    "\n",
    "\n",
    "Y que el seno es la \"diferencia\" entre dos acciones fundamentales y luego desplazada 90º\n",
    "\n",
    "$$b \\sin(t)=b\\frac{e^{it}-e^{-it}}{2i}$$\n",
    "\n",
    "\n",
    "Con un poco de manipulación algebraica,es fácil ver que podemos expresar la curva  de forma paramétrica:\n",
    "\n",
    "$$z(t)=a\\cos{t}+i b \\sin{t}$$ \n",
    "\n",
    "Con \n",
    "\n",
    "$$a=R_{_+}+R_{_-}$$ \n",
    "$$b=R_{_+}-R_{_-}$$\n",
    "\n",
    "\n",
    "\n",
    "\n",
    "\"\"\"\n",
    "\n",
    "\n",
    "\n",
    "## Texto para crear audio y subtítulos automáticamente\n",
    "voice_conicas=\"\"\"\n",
    "Si te enseñaron sobre las  cónicas  probablemente recuerdes \n",
    "\n",
    "La  ecuación implícita para un elipse usando números reales\n",
    "\n",
    "Ésta forma de ver la elipse no está incluida en el artículo de Wikipedia así que creo es \n",
    "interesante empezar por aquí\n",
    "\"\"\""
   ]
  },
  {
   "cell_type": "code",
   "execution_count": 11,
   "metadata": {},
   "outputs": [],
   "source": [
    "\n",
    "\n",
    "imaginar_modelo_tres_cuerpos_1=r\"\"\"\n",
    "Para situarnos en éste experimento mental imaginaremos inicialmente un modelo simplificado de las órbitas de 3 cuerpos celestes del tipo Estrella-Planeta-Satélite (Sol-Tierra-Luna) \n",
    "\n",
    "$$ $$\n",
    "Imaginaremos cómo serían presentados típicamente éstos temas en un planeta matemático ficticio que llamaremos Tau. \n",
    "\n",
    "$$ $$ \n",
    "\n",
    "Imaginaremos algunos personajes  de Tau, que llamaremos Claudius, Joseph, Antoine y Sebastian. \n",
    "\n",
    "$$ $$ \n",
    "\n",
    "Seguramente contar la historia completa llevará varios videos, pero intentaré contar al menos el principio.\n",
    "\"\"\" \n",
    "\n",
    "imaginar_modelo_tres_cuerpos_2=r\"\"\"\n",
    "Todos se conocían de la universidad, donde asistían juntos a la cátedra de Hard Leon, considerado el más grande matemático de la historia de Tau.\n",
    "$$ $$ \n",
    "Veremos como Claudius está inspirado en personajes como Ptolomeo-Kepler-Copernico-etc, y cómo su obsesión inicial era sumar epiciclos.  \n",
    "$$ $$ \n",
    "Joseph está inspirado en Fourier, sufría mucho el frío y estaba obsesionado en modelar el comportamiento del calor usando ecuaciones diferenciales.  \n",
    "$$ $$ \n",
    "Antoine está inspirado en Lissajous y sus figuras y sus experimentos como el Armonógrafo, que en Tau imaginaremos como una especie de osciloscopio usado para visualizar representaciones paramétricas.\n",
    "$$ $$ \n",
    "Hard Leon, está inspirado en Leonhard Euler que imaginaremos que era el profesor de Análisis Matemático de los personajes mencionados.\n",
    "\n",
    "\"\"\"\n",
    "\n",
    "\n",
    "luz_calor_epiciclos_1=r\"\"\"\n",
    "\n",
    "Entender cómo en Tau el trabajo de Joseph está íntimamente relacionado con el trabajo de Claudius llevará un poco de tiempo.  \n",
    "$$ $$ \n",
    "Pero digamos como introducción que Joseph sufría mucho el frío (Según contó Steven S. en una entrevista con Grant S. ésto fue así en la Tierra, Fourier \"tenía literalmente frío\" ver link en la descripción). \n",
    "$$ $$ \n",
    "Es por ésto que Joseph en Tau,estaba buscando describir el comportamiento del calor usando el equivalente a  lo que en la Tierra llamamos ecuaciones diferenciales. \n",
    "\n",
    "\"\"\"\n",
    "\n",
    "\n",
    "luz_calor_epiciclos_2=r\"\"\"\n",
    "\n",
    "Uno de los experimentos mentales de Joseph era unir dos barras metálicas una caliente y otra fría (o mejor dicho, menos caliente), y estudiar y tratar de modelar qué pasaba luego de un determinado tiempo $t$ con la distribución del calor entre las dos barras unidas. \n",
    "$$ $$ \n",
    "De forma misteriosa, inspirado por su profesor Hard Leon, ésto lo llevó a  aproximar una función que representada gráficamente tenía forma de escalón (ya que representaba un salto  entre las temperaturas de las dos barras en el punto de unión ). \n",
    "$$ $$ \n",
    "Las soluciones de esa ecuación diferencial, terminaron dando una solución que parecía funcionar usando la suma de \"infinitas\" combinaciones de ondas que tenían frecuencias que eran múltiplos enteros de una frecuencia fundamental que dependía de las longitudes de los materiales usados. (Ver fenómeno de Gibbs)\n",
    "\"\"\"\n",
    "\n",
    "\n",
    "claudius_elipses_y_simetrias=r\"\"\"\n",
    "Claudius mientras tanto jugaba con  los cuerpos celestes usando modelos geocéntricos, heliocéntricos y otros. \n",
    "\n",
    "$$ $$ \n",
    "\n",
    "Usó circunferencias inicialmente y luego se dió cuenta de que todo eran elipses de diferentes excentricidades, ya que todo lo que él era capaz de describir matemáticamente  veía que en esencia  estaba formado por la composición (o suma vectorial) de dos acciones/propiedades fundamentales opuestas  del tipo:\n",
    "\n",
    "\"\"\"\n",
    "\n",
    "\n",
    "simetrias_de_claudius=r\"\"\"\n",
    "* (giro_sentido_anti_horario,giro_sentido_horario)\n",
    "\n",
    "* $(+),(-)$ \n",
    "\n",
    "* (calor,frío)\n",
    "\n",
    "* (luz,oscuridad) \n",
    "\n",
    "* (arriba, abajo)\n",
    "\n",
    "* (derecha,izquierda)\n",
    "\n",
    "* $(i,-i)$\n",
    "\n",
    "* (1,-1)   \n",
    "\n",
    "\"\"\"\n",
    "\n",
    "\n",
    "la_obsesion_de_claudius=r\"\"\"\n",
    "La obsesión  de Claudius era sumar epiciclos de forma tal que se puedan predecir mediante modelos matemáticos sencillos las trayectorias documentadas de los cuerpos celestes.\n",
    "\n",
    "Pero al igual que el trabajo de Joseph, sus ideas llegaron mucho mas lejos y tuvieron aplicaciones en infinidad de áreas del conocimiento en la historia de Tau. \n",
    "\n",
    "\"\"\"\n",
    "la_noche_de_los_descubrimientos=r\"\"\"\n",
    "\n",
    "Los historiadores científicos de Tau cuentan que Joseph y Claudius tomaron nota  de las similitudes de sus trabajos cuando ambos en una noche larga de charla mientras estudiaban para la próxima clase con Hard Leon terminaron intentando calcular cuántas sub-lunas harían falta y con qué radios y períodos orbitales tendrían que girar una alrededor de la otra, para que sumando epiciclos se logre una órbita final anual en la que todo el año se vea  como un cuadrado.  \n",
    "\n",
    "\"\"\"\n",
    "\n",
    "\n",
    "\n",
    "intro_a_numeros_compas_1=r\"\"\"\n",
    "\n",
    "Para dibujar la historia usaremos Números Complejos, pero justamente por que al usarlos todo resulta mucho mas fácil e intuitivo.\n",
    "\n",
    "$$z=a+ib=re^{i\\theta}$$ \n",
    "\n",
    "Por eso, no dejes de ver el video si no estás familiarizado con el tema, ya que espero que te quedes con intuiciones que te ayudarán a entenderlo luego. \n",
    "\n",
    "\"\"\"\n",
    "intro_a_numeros_compas_2=r\"\"\"\n",
    "La idea original de éste vídeo era hacer una introducción básica a la idea de número bidimensional. Pero si entraba en todas las formalidades básicas en el formato típico  de la educación académica, nunca iba a poder terminar la historia que une todos los hilos. Es por eso que en la descripción habrá enlaces a introducciones formales recomendadas apropiadas para distintos niveles de familiaridad con los temas tratados. \n",
    "$$ $$ \n",
    "Imaginemos que en Tau a ésta idea de número de 2 dimensiones, al haber sido su línea histórica de descubrimientos muy distinta a la nuestra los terminaron llamando Números Compás. \n",
    "\"\"\"\n",
    "\n",
    "\n",
    "intro_a_numeros_compas_3=r\"\"\"\n",
    "Éste nombre era apropiado, ya que  se sabía en la historia de Tau que Claudius usaba mucho el compás como instrumento de dibujo y medición y también usaba números bidimensionales en coordenadas polares y/o cartesianas que le indicaban en qué posición del papel representar cada instante/lugar de su modelo,se sabía que los usaba como notación para representar y aproximar curvas y analizar la mecánica celeste  de forma simplificada. \n",
    "$$ $$ \n",
    "En castellano, Compás  también es una palabra relacionada con la música mediante la idea de Ritmo  y ésto viene dado,como veremos, por la influencia del trabajo de Sebastian  en Tau.\n",
    "$$ $$ \n",
    "Otro instrumento históricamente relacionado con el nombre elegido para los números mas populares en Tau, es el que usamos para ubicarnos en el espacio según el Campo Magnético de la Tierra que en castellano  llamamos Brújula (en inglés es Compass ).  \n",
    "$$ $$ \n",
    "Y ésto era apropiado en Tau, ya que también tuvieron a un equivalente a J. C. Maxwell que describió la naturaleza ondulatoria del campo electromagnético inspirándose en intuiciones fundamentales de éste estilo. (Como ilustración de ésta relación, pensar cómo  es que el azúcar, al ser una molécula que tiene una determinada quiralidad, modifica el comportamiento de la luz  que pasa a través de un cilindro que contiene un líquido azucarado.(Ver  link en la descripción What is Wiggling ?)\n",
    "\n",
    "\"\"\"\n",
    "\n",
    "\n",
    "\n",
    "\n"
   ]
  },
  {
   "cell_type": "code",
   "execution_count": null,
   "metadata": {},
   "outputs": [],
   "source": [
    "\n",
    "describiendo_tau =r\"\"\" \n",
    "\n",
    "Imaginemos que todos los habitantes de Tau vivían en armonía con la naturaleza y las matemáticas eran parte fundamental de la cultura del planeta. \n",
    "$$ $$ \n",
    "Se enseñaban las ideas profundamente, con pasión y arte, tanto para aplicarlas a la creación de tecnologías que avanzan la sociedad,como también para describir el universo  y transmitir de generación en generación los conocimientos e intuiciones fundamentales. \n",
    "\n",
    "$$ $$ \n",
    "\n",
    "En la descripción del video habrá enlaces a información complementaria, para distintos niveles de familiaridad con los temas tratados. \n",
    "\n",
    "$$ $$ \n",
    "\n",
    "\n",
    "\"\"\""
   ]
  },
  {
   "cell_type": "code",
   "execution_count": 12,
   "metadata": {},
   "outputs": [],
   "source": [
    "# Figuras de Lissajous\n",
    "osciloscopio_lissajous=r\"\"\" \n",
    "Si en un osciloscopio, que normalmente tiene dos canales de entrada que podemos llamar (X,Y) ponemos dos señales sinusoidales distintas, es equivalente a ver la gráfica definida en ecuaciones paramétricas de :\n",
    "\n",
    "$$x(t)=A_x \\sin(\\omega_x t+\\alpha)$$\n",
    "\n",
    "$$y(t)=A_y \\sin(\\omega_y t+\\beta)$$\n",
    "\n",
    "La relación entre las fases de las dos expresiones anteriores se suele llamar :\n",
    "\n",
    "$$\\delta=\\alpha-\\beta$$\n",
    "\n",
    "\"\"\""
   ]
  },
  {
   "cell_type": "code",
   "execution_count": 115,
   "metadata": {},
   "outputs": [],
   "source": [
    "## Notación usada en Tau\n",
    "notacion_usada_en_tau=r\"\"\"\n",
    "En Tau usan un truco de notación similar al nuestro para las exponenciales complejas, pero basan a todas las\n",
    "exponenciales complejas de módulo y argumento unitario con un número $\\Theta=e^i$ y lo aprovechan para lograr \n",
    "expresiones más fáciles de leer. \n",
    "\n",
    "$$\\Theta^{\\theta}=e^{i\\theta} = \\cos(\\theta) + i\\sin(\\theta)$$\n",
    "\n",
    "\"\"\"\n",
    "\n",
    "### Aclaraciones para estudiantes \n",
    "recordar_exponenciales_complejas_1=r\"\"\"\n",
    "\n",
    "Es importante recordar que cuando  escribimos \n",
    "\n",
    "$$e^{z}=e^{\\alpha}\\cdot e^{i\\theta}$$ \n",
    "\n",
    "Estamos abusando de notación para representar una función:\n",
    "\n",
    "$$z  \\in \\mathbb{C}$$ :\n",
    "\n",
    "$$z = \\alpha + i\\theta $$\n",
    "\n",
    "$$e^{z}=e^{\\alpha+i\\theta}=e^{\\alpha}\\cdot e^{i\\theta}$$\n",
    "\n",
    "$$e^z=exp(z)=\\sum_{n=0}^{\\infty} \\frac{z^n}{n!} = 1 + \\frac{z}{1!} + \\frac{z^2}{2!} + \\frac{z^3}{3!} + \\cdots$$\n",
    "\n",
    "\n",
    "$$e^{i\\theta}= \\sum_{n=0}^{\\infty} \\frac{(i \\theta)^n}{n!} $$\n",
    "\n",
    "$$e^{i\\theta}=\\sum_{n=0}^{\\infty} \\left[ \\left(-1\\right)^n \\frac{\\theta^{2n}{(2n)!} \\right] + i \\sum_{n=0}^{\\infty} \\left[ \\left(-1\\right)^n \\frac{\\theta^{2n+1}{(2n+1)!} \\right]$$\n",
    "\n",
    "\"\"\"\n",
    "recordar_exponenciales_complejas_2=r\"\"\"\n",
    "Se puede expresar como un exponente ya que al evaluar ésta serie es fácil ver que es compatible con las siguientes reglas: \n",
    "\n",
    "$$x^a \\cdot x^b=x^{a+b}$$\n",
    "\n",
    "$$\\frac{x^a}{x^b}=x^{a-b}$$\n",
    "\n",
    "$$(x^a)^b=x^{ab}$$\n",
    "\n",
    "$$\\sqrt[a]{x}=x^{\\frac{1}{a}$$\n",
    "\n",
    "\"\"\"\n",
    "recordar_exponenciales_complejas_3=r\"\"\"\n",
    "\n",
    "Al igual que en la primer regla,el producto de dos exponenciales, resulta ser la exponencial de la suma de sus argumentos. \n",
    "\n",
    "$$exp(a)*exp(b)=exp(a+b)$$\n",
    "\n",
    "Y así para el resto de las reglas\n",
    "\n",
    "$$exp(a)/exp(b)=exp(a-b)$$\n",
    "\n",
    "$$(exp(a))^b=exp(ab)$$\n",
    "\n",
    "$$\\sqrt[b]{exp(a)}=exp(\\frac{a}{b})$$\n",
    "\n",
    "\"\"\" \n",
    "\n",
    "### Un poco mas de detalle\n",
    "\n",
    "\n",
    "rotaciones_de_90=r\"\"\"\n",
    "\n",
    "\n",
    "Notar que el  comportamiento cíclico se debe a que derivar representa un desplazamiento de 90º , y usar Taylor corresponde justamente a las sucesivas n-derivadas de la función.\n",
    "\n",
    "$$\\frac{d}{dt}e^{i\\theta}=ie^{i\\theta}$$  \n",
    "\n",
    "$$e^{i\\theta}= \\sum_{n=0}^{\\infty} \\frac{(i \\theta)^n}{n!} $$\n",
    "\n",
    "\n",
    "Notar como al evaluar la expansión en serie de potencias siempre obtenemos un ciclo mod 4  antihorario del tipo:\n",
    "\n",
    "$$1,i,-1,-i $$\n",
    "\"\"\"\n",
    "rotaciones_de_90b=r\"\"\"\n",
    "Lo que en Tau se suele escribir:\n",
    "\n",
    "$$\\Theta^{\\tau},\\Theta^{\\frac{\\tau}{4},\\Theta^{\\frac{\\tau}{2},\\Theta^{\\frac{3\\tau}{4}$$\n",
    "\n",
    "$$\\Theta^{2\\pi},\\Theta^{\\frac{\\pi}{2},\\Theta^{\\pi},\\Theta^{\\frac{3\\pi}{2}$$\n",
    "\n",
    "\n",
    "$$\\Theta^{\\theta} = \\sum_{n=0}^{\\infty} \\left[ \\left(-1\\right)^n \\frac{\\theta^{2n}{(2n)!} \\right] + i \\sum_{n=0}^{\\infty} \\left[ \\left(-1\\right)^n \\frac{\\theta^{2n+1}{(2n+1)!} \\right]$$\n",
    "\n",
    "\n",
    "\n",
    "\"\"\"\n",
    "\n",
    "\n",
    "\n",
    "evaluando_sumatoria_taylor=r\"\"\"\n",
    "Evaluando los términos de la anterior sumatoria tenemos:\n",
    "\n",
    "\n",
    "$$ \\frac{(i\\theta)^0}{0!} = 1 $$\n",
    "\n",
    "\n",
    "$$ \\frac{(i\\theta)^1}{1!} = i\\theta $$\n",
    "\n",
    "\n",
    "$$ \\frac{(i\\theta)^2}{2!} = -\\frac{\\theta^2}{2} $$\n",
    "\n",
    "\n",
    "$$ \\frac{(i\\theta)^3}{3!} = -\\frac{i\\theta^3}{6} $$\n",
    "\n",
    "\n",
    "$$ \\frac{(i\\theta)^4}{4!} = \\frac{\\theta^4}{24} $$\n",
    "\"\"\"\n",
    "evaluando_sumatoria_taylor_expresion=r\"\"\"\n",
    "Combinando los términos reales e imaginarios tenemos:\n",
    "\n",
    "$$ \\exp(i\\theta) = 1 + i\\theta - \\frac{\\theta^2}{2} - \\frac{i\\theta^3}{6} + \\frac{\\theta^4}{24} - \\ldots $$\n",
    "\n",
    "\n",
    "$$e^{i \\theta} = \\sum_{n=0}^{\\infty} \\frac{(i \\theta)^n}{n!} $$\n",
    "\n",
    "\"\"\"\n",
    "\n",
    "seno_impar_coseno_par=r\"\"\"\n",
    "Recordar siempre que el coseno es par y el seno es impar ayuda a recordar estas expresiones que se pueden obtener simplemente derivando sucesivamente el coseno y el seno según su serie de Taylor (o MCLaurin) como hicimos para la exponencial y veremos ésto claramente.\n",
    "\n",
    "$$\\cos(\\theta) = \\sum_{n=0}^{\\infty} (-1)^n \\frac{\\theta^{2n}{(2n)!} = 1 - \\frac{\\theta^2}{2!} + \\frac{\\theta^4}{4!} - \\frac{\\theta^6}{6!} + \\cdots$$\n",
    "\n",
    "$$\\sin(\\theta) = \\sum_{n=0}^{\\infty} (-1)^n \\frac{\\theta^{2n+1}{(2n+1)!} = \\theta - \\frac{\\theta^3}{3!} + \\frac{\\theta^5}{5!} - \\frac{\\theta^7}{7!} + \\cdots$$\n",
    "\"\"\"\n"
   ]
  },
  {
   "cell_type": "markdown",
   "metadata": {},
   "source": [
    "## Escena de texto y plots modelo "
   ]
  },
  {
   "cell_type": "code",
   "execution_count": 71,
   "metadata": {},
   "outputs": [],
   "source": [
    "# Funciones para manim que simplifican el trabajo \n",
    "def plot_complex_points(complex_array):\n",
    "        \n",
    "        dots = VGroup()\n",
    "        \n",
    "        colormap = plt.get_cmap(\"hsv\")\n",
    "\n",
    "        angles = np.angle(complex_array)\n",
    "        normalized_angles = (angles - np.min(angles)) / (np.max(angles) - np.min(angles))\n",
    "\n",
    "        for complex_point, angle in zip(complex_array, normalized_angles):\n",
    "            rgb_color = colormap(angle)[:3]  # Extract RGB values\n",
    "            hex_color = \"#\" + \"\".join([f\"{int(c * 255):02x}\" for c in rgb_color])\n",
    "            dot = Dot(complex_to_R3(complex_point), color=hex_color,fill_opacity=0.3)\n",
    "            dots.add(dot)\n",
    "\n",
    "        return dots\n",
    "class myfunc(Scene):\n",
    "# Funciones para plot y mostrar textos largos en LaTeX\n",
    "    def play_scene(self, text_lines,wait_seconds,text_scale,write_time):\n",
    "            scene_text = []\n",
    "            for line in text_lines:\n",
    "                scene_text.append(Tex(line))\n",
    "\n",
    "            for i in range(len(scene_text)):\n",
    "                scene_text[i].scale(text_scale)\n",
    "                scene_text[i].to_edge(UP * 2)\n",
    "                if i > 0:\n",
    "                    self.play(FadeOut(prev_text))\n",
    "                self.play(Write(scene_text[i]),run_time=write_time)\n",
    "                self.wait(wait_seconds)\n",
    "                prev_text = scene_text[i]\n",
    "\n",
    "            self.play(FadeOut(prev_text))\n",
    "    def plot_parametric(self, func, t_range, color=BLUE):\n",
    "        curve = ParametricFunction(func, color=color, t_range=t_range)\n",
    "        self.play(Create(curve))\n",
    "    \n",
    "  \n",
    "    def plot_dots_for_multiplot(self,complex_arrays,run_time,lag_ratio,wait_after):\n",
    "        dots_groups = []\n",
    "        for complex_array in complex_arrays:\n",
    "            dots_group = plot_complex_points(complex_array)\n",
    "            dots_groups.append(dots_group)\n",
    "        self.play(*[Write(dots_group, run_time=run_time,lag_ratio=lag_ratio) for dots_group in dots_groups])\n",
    "        self.wait(wait_after)"
   ]
  },
  {
   "cell_type": "code",
   "execution_count": 58,
   "metadata": {},
   "outputs": [],
   "source": [
    "## Creación de array con componentes principales de lemniscata como números compás\n",
    "t_values=np.linspace(0,2*np.pi,360)\n",
    "omega_x=1\n",
    "omega_y=2\n",
    "a=2\n",
    "b=1\n",
    "\n",
    "theta_xp=(a/2)*np.exp(1j*omega_x*t_values)\n",
    "theta_yp=(b/2)*np.exp(1j*omega_y*t_values)\n",
    "theta_xn=(a/2)*np.exp(-1j*omega_x*t_values)\n",
    "theta_yn=(-b/2)*np.exp(-1j*omega_y*t_values)\n",
    "lemniscata=theta_xp+theta_xn+theta_yp+theta_yn\n",
    "\n",
    "leminscata_pure=a*np.cos(t_values)/(1+(np.sin(t_values))**2)+1j*a*np.cos(t_values)*np.sin(t_values)/(1+(np.sin(t_values))**2)\n",
    "lemniscata_multi=[theta_xp,theta_yp,theta_xn,theta_yn,leminscata_pure] #,lemniscata\n"
   ]
  },
  {
   "cell_type": "code",
   "execution_count": 148,
   "metadata": {},
   "outputs": [],
   "source": [
    "# Elipse a=2 b=1\n",
    "t=sp.Symbol('t',real=True)\n",
    "t_values=np.linspace(0,2*np.pi,360)\n",
    "t_range = [0,2*np.pi]\n",
    "a=sp.Integer(4)  \n",
    "b=sp.Integer(2)\n",
    "R_add=sp.Rational(a+b,2)\n",
    "R_subs=sp.Rational(a-b,2)\n",
    "Elipse_21_compas=R_add*exp(i*t)+R_subs*exp(-i*t) \n",
    "\n",
    "giro_anti_horario=R_add*exp(i*t)\n",
    "giro_horario=R_subs*exp(-i*t)"
   ]
  },
  {
   "cell_type": "code",
   "execution_count": 136,
   "metadata": {},
   "outputs": [],
   "source": [
    "def ellipse_2_1(t):\n",
    "    x = 2*np.cos(t)\n",
    "    y = np.sin(t)\n",
    "    return np.array([x, y, 0])"
   ]
  },
  {
   "cell_type": "code",
   "execution_count": 137,
   "metadata": {},
   "outputs": [],
   "source": [
    "def lemniscate_bernoulli(t):\n",
    "    a = 2  \n",
    "    x = a  * np.cos(t) / (np.sin(t)**2 + 1)\n",
    "    y = a  * np.cos(t) * np.sin(t) / (np.sin(t)**2 + 1)\n",
    "    return np.array([x, y, 0])"
   ]
  },
  {
   "cell_type": "code",
   "execution_count": 124,
   "metadata": {},
   "outputs": [],
   "source": [
    "g_a_h=cf.get_npf(t,giro_anti_horario)\n",
    "g_h=cf.get_npf(t,giro_horario)\n",
    "\n",
    "Elipse_21_compas_tex,Elipse_21_compas_npf,Elipse_21_compas_npa=cf.get_tex_and_npf(Elipse_21_compas,t,values=t_values)"
   ]
  },
  {
   "cell_type": "code",
   "execution_count": 113,
   "metadata": {},
   "outputs": [
    {
     "name": "stdout",
     "output_type": "stream",
     "text": [
      "3 e^{i t} + e^{- i t}\n"
     ]
    }
   ],
   "source": [
    "print(Elipse_21_compas_tex)"
   ]
  },
  {
   "cell_type": "code",
   "execution_count": 147,
   "metadata": {},
   "outputs": [
    {
     "data": {
      "image/png": "[encoded data removed]",
      "text/plain": [
       "<IPython.core.display.Image object>"
      ]
     },
     "metadata": {},
     "output_type": "display_data"
    }
   ],
   "source": [
    "%%manim -ql ShowTex2\n",
    "x=Symbol('x',complex='True')\n",
    "y=Symbol('y',complex='True')\n",
    "a=Symbol('a',complex='True')\n",
    "b=Symbol('b',complex='True')\n",
    "Theta_omega_t= sp.Equality(Theta**(omega*t),exp(i*omega*t))\n",
    "Theta_t= sp.Equality(Theta**t,exp(i*t))\n",
    "\n",
    "r =Symbol('r')\n",
    "#r =Symbol('r', nonnegative=True)\n",
    "expr = Eq((x/a)**2+(y/b)**2,1).simplify()\n",
    "expr_polar=expr.subs({x: a*cos(theta), y: b*sin(theta)}).simplify()\n",
    "phi_relation=Eq(x**2-x*y-y**2,0)\n",
    "cplx_phi_relation=Eq(x**2-x*y+y**2,0)\n",
    "\n",
    "TexCenter_=r\"\"\" \n",
    "\n",
    "En este ejemplo usamos fórmulas en línea ${expr}$ y fórmulas principales \n",
    "$${phi_relation}$$ \n",
    "\n",
    "Tomadas de expresiones creadas con SymPy\n",
    "\n",
    "\n",
    "\"\"\"\n",
    "\n",
    "\n",
    "\n",
    "TexCenter_=TexCenter_.format(expr=latex(expr),phi_relation=latex(phi_relation))\n",
    "\n",
    "TexUL_=r\"\"\" Expresión polar \n",
    "\n",
    "\n",
    "$$r{Theta_t_lhs}=r{Theta_t_rhs}$$\n",
    "\n",
    "\n",
    "\n",
    "\"\"\"\n",
    "TexUL_=TexUL_.format(Theta_t_lhs=latex(Theta_t.lhs),Theta_t_rhs=latex(Theta_t.rhs))\n",
    "\n",
    "TexUR_=latex(expr_polar)\n",
    "TexDL_=latex(expr_polar)\n",
    "TexDR_=latex(expr_polar)\n",
    "\n",
    "\n",
    "\n",
    "TexCenter=Tex(TexCenter_)\n",
    "TexUL=Tex(TexUL_).to_edge(UL).scale(0.8)\n",
    "TexUR=Tex(TexUR_).to_edge(UR)\n",
    "TexDL=Tex(TexDL_).to_corner(DL)\n",
    "TexDR=Tex(TexDR_).to_corner(DR)\n",
    "Center_scale=0.7\n",
    "UL_scale=1.2\n",
    "UR_scale=1.2\n",
    "DL_scale=0.65\n",
    "DR_scale=0.65\n",
    "Theta_x = Function('Theta_x')\n",
    "Theta_y = Function('Theta_y')\n",
    "Eq_Theta_rect=sp.Eq(Theta**t,Theta_x(t) + I*Theta_y(t))\n",
    "Theta_rect=sp.Equality(Theta**t,Theta_x(t) + I*Theta_y(t))\n",
    "\n",
    "Theta_rect\n",
    "\n",
    "class ShowTex2(Scene):\n",
    "    def construct(self):      \n",
    "      \n",
    "        \n",
    "        self.add(TexCenter.scale(Center_scale))\n",
    "        self.add(TexUL.scale(UL_scale))\n",
    "        # self.add(TexUR.scale(UR_scale))       \n",
    "        # self.add(TexDL.scale(DL_scale))\n",
    "        # self.add(TexDR.scale(DR_scale))\n"
   ]
  },
  {
   "cell_type": "markdown",
   "metadata": {},
   "source": [
    "# Escena texto y plots "
   ]
  },
  {
   "cell_type": "code",
   "execution_count": 141,
   "metadata": {},
   "outputs": [],
   "source": [
    "# Colección de textos \n",
    "intro = [imaginar_modelo_tres_cuerpos_1,imaginar_modelo_tres_cuerpos_2,describiendo_tau]\n",
    "ElipseOndas=[ElipseOndas_0,ElipseOndas_1,ElipseOndas_1b ,ElipseOndas_2,ElipseOndas_3]\n",
    "Claudius=[claudius_elipses_y_simetrias,la_obsesion_de_claudius,simetrias_de_claudius]\n",
    "Joseph=[luz_calor_epiciclos_1,luz_calor_epiciclos_2,la_noche_de_los_descubrimientos]\n",
    "Antoine=[osciloscopio_lissajous]\n",
    "NumerosCompas=[notacion_usada_en_tau,intro_a_numeros_compas_1,intro_a_numeros_compas_2,intro_a_numeros_compas_3]\n",
    "ExponencialesComplejas=[recordar_exponenciales_complejas_1,recordar_exponenciales_complejas_2,recordar_exponenciales_complejas_3]\n",
    "Taylor=[rotaciones_de_90,rotaciones_de_90b,evaluando_sumatoria_taylor,evaluando_sumatoria_taylor_expresion,seno_impar_coseno_par]\n",
    "\n",
    "# Colección de arrays para plot \n",
    "lemniscata_multi=[theta_xp,theta_yp,theta_xn,theta_yn,leminscata_pure] #,lemniscata\n",
    "elipse_a2_b1=[Elipse_21_compas_npa,g_a_h(t_values),g_h(t_values)]\n",
    "\n",
    "# Colección de fórmulas para ubicar en plots\n",
    "Elipse_Tau=r\"\"\"$$z(t)=R_{_+} \\Theta^{t} +R_{_-} \\Theta^{-t}$$ \"\"\"\n",
    "Elipse_Tau=Tex(Elipse_Tau).scale(0.6)\n"
   ]
  },
  {
   "cell_type": "code",
   "execution_count": 142,
   "metadata": {},
   "outputs": [
    {
     "name": "stderr",
     "output_type": "stream",
     "text": [
      "                                                                                                                                                                                                                                                                                                                                                                                                                                                                                                                                                                                                                                                                                                                                                                                                                                                                                                                                                                                                                                                                                                                                                                                                                                                                                                                                                                                                                                                                                                                               \r"
     ]
    },
    {
     "data": {
      "text/html": [
       "<video src=\"media/jupyter/EscenaTextoyPlot_1@2023-09-14@20-24-46.mp4\" controls autoplay loop style=\"max-width: 100%;\"  >\n",
       "      Your browser does not support the <code>video</code> element.\n",
       "    </video>"
      ],
      "text/plain": [
       "<IPython.core.display.Video object>"
      ]
     },
     "metadata": {},
     "output_type": "display_data"
    }
   ],
   "source": [
    "%%manim -ql EscenaTextoyPlot_1\n",
    "\n",
    "class EscenaTextoyPlot_1(Scene):\n",
    "    def construct(self):\n",
    "        \n",
    "         # Escribir  texto intro \n",
    "        myfunc.play_scene(self,text_lines=intro,\n",
    "            wait_seconds=13, # Tiempo de espera luego de escribir el texto\n",
    "            text_scale=0.5,  # Escala del texto\n",
    "            write_time=6)    # Tiempo  que demora la animación en escribir el texto entero en pantalla\n",
    "        \n",
    "        self.wait(1)\n",
    "    \n",
    "        # Escribir  texto intro a Elipses \n",
    "        myfunc.play_scene(self,text_lines=ElipseOndas,\n",
    "            wait_seconds=13,\n",
    "            text_scale=0.5,\n",
    "            write_time=6)\n",
    "        \n",
    "        self.wait(1)\n",
    "        \n",
    "        # Realizar plot de elipse de ejemplo\n",
    "        # Formula en la parte superior del plot\n",
    "        self.play(Write(Elipse_Tau.to_edge(UP)))\n",
    "        \n",
    "        myfunc.plot_dots_for_multiplot(self,complex_arrays=elipse_a2_b1,\n",
    "            run_time=16, # Tiempo que demora en dibujar el plot multiple\n",
    "            lag_ratio=0.5, # Ratio para el lag con el que dibuja cada dot\n",
    "            wait_after=6)  # Tiempo de espera luego de hacer el plot\n",
    "        self.clear()\n",
    "\n",
    "        #  # Escribir  texto numeros compas \n",
    "        # myfunc.play_scene(self,text_lines=NumerosCompas,\n",
    "        #     wait_seconds=13,\n",
    "        #     text_scale=0.5,\n",
    "        #     write_time=6)\n",
    "        \n",
    "        # self.wait(1)\n",
    "\n",
    "        \n",
    "\n",
    "        # ## Plot parametrico\n",
    "        # myfunc.plot_parametric(self,func=ellipse_2_1,\n",
    "        \n",
    "        #     t_range = t_range,\n",
    "            \n",
    "        #     color=RED)\n",
    "    \n",
    "            "
   ]
  },
  {
   "cell_type": "markdown",
   "metadata": {},
   "source": [
    "## Plot paramétrico en manim"
   ]
  },
  {
   "cell_type": "code",
   "execution_count": null,
   "metadata": {},
   "outputs": [],
   "source": []
  },
  {
   "cell_type": "code",
   "execution_count": 140,
   "metadata": {},
   "outputs": [
    {
     "name": "stderr",
     "output_type": "stream",
     "text": [
      "                                                                                                                                      \r"
     ]
    },
    {
     "data": {
      "text/html": [
       "<video src=\"media/jupyter/ParametricPlot@2023-09-14@20-20-18.mp4\" controls autoplay loop style=\"max-width: 100%;\"  >\n",
       "      Your browser does not support the <code>video</code> element.\n",
       "    </video>"
      ],
      "text/plain": [
       "<IPython.core.display.Video object>"
      ]
     },
     "metadata": {},
     "output_type": "display_data"
    }
   ],
   "source": [
    "%%manim -qh ParametricPlot\n",
    "\n",
    "t_range = [0,2*np.pi]\n",
    "\n",
    "x_range=[-2, 2]\n",
    "y_range=[-2, 2]\n",
    "axis_config={\"color\": GRAY_C}\n",
    "x_axis_config={\"numbers_to_include\":[-1,1] }\n",
    "y_axis_config={\"numbers_to_include\":[-1,1] }\n",
    "            \n",
    "def ellipse_2_1(t):\n",
    "    x = 2*np.cos(t)\n",
    "    y = np.sin(t)\n",
    "    return np.array([x, y, 0])\n",
    "\n",
    "\n",
    "def lemniscate_aprox(t):\n",
    "    x = 2*np.cos(t)\n",
    "    y = np.sin(2 * t)\n",
    "    return np.array([x, y, 0])\n",
    "\n",
    "def lemniscate_bernoulli(t):\n",
    "    a = 2  \n",
    "    x = a  * np.cos(t) / (np.sin(t)**2 + 1)\n",
    "    y = a  * np.cos(t) * np.sin(t) / (np.sin(t)**2 + 1)\n",
    "    return np.array([x, y, 0])\n",
    "\n",
    "formulas = [\n",
    "            MathTex(r\"x(t) = 2 \\cos(t)\").set_color(BLUE),\n",
    "            MathTex(r\"y(t) = \\sin(2t)\").set_color(BLUE),\n",
    "            MathTex(r\"0 \\leq t < 2\\pi \").set_color(WHITE),\n",
    "            MathTex(r\"z(t)=x(t)+i y(t) \").set_color(WHITE),\n",
    "            MathTex(r\"x(t) = \\frac{2  \\cos(t)}{\\sin^2(t) + 1}\").set_color(YELLOW_B),\n",
    "            MathTex(r\"y(t) = 2\\sin(t)\\frac{  \\cos(t) }{\\sin^2(t) + 1}\").set_color(YELLOW_B),\n",
    "            MathTex(r\"x(t) = 2 \\cos(t)\").set_color(GREEN_C),\n",
    "            MathTex(r\"y(t) = \\sin(t)\").set_color(GREEN_C),\n",
    "            Tex(r\"$x(t)= \\cos t$  ;  $y(t)= \\sin t$ \").set_color(RED_B)\n",
    "            \n",
    "        \n",
    "        ]\n",
    "\n",
    "\n",
    "\n",
    "\n",
    "\n",
    "wait_after=13\n",
    "\n",
    "class ParametricPlot(Scene):\n",
    "    def plot_parametric(self, func, t_range, color=BLUE):\n",
    "        curve = ParametricFunction(func, color=color, t_range=t_range)\n",
    "        self.play(Create(curve))\n",
    "\n",
    "    def construct(self):\n",
    "        # Create axes\n",
    "        axes = Axes(\n",
    "            x_range=x_range,\n",
    "            y_range=y_range,\n",
    "            axis_config=axis_config,\n",
    "            \n",
    "        )\n",
    "        \n",
    "        #self.play(Create(axes))\n",
    "        self.play(Write(formulas[3].to_corner(UP)))\n",
    "        self.play(Write(formulas[2].to_edge(DOWN)))\n",
    "        self.play(Write(formulas[8].next_to(formulas[3],DOWN)))\n",
    "\n",
    "        self.play(Write(Circle(radius=1)))\n",
    "\n",
    "        \n",
    "        \n",
    "        self.play(Write(formulas[6].to_edge(LEFT)))\n",
    "        self.play(Write(formulas[7].to_edge(RIGHT)))\n",
    "\n",
    "        self.plot_parametric(ellipse_2_1, t_range, color=GREEN_C)\n",
    "\n",
    "        self.play(Write(formulas[0].to_edge(UL))) \n",
    "        self.play(Write(formulas[1].to_edge(UR)))  \n",
    "\n",
    "        self.plot_parametric(lemniscate_aprox, t_range, color=BLUE)\n",
    "\n",
    "\n",
    "        self.play(Write(formulas[4].to_edge(DL)))\n",
    "        self.play(Write(formulas[5].to_edge(DR)))\n",
    "\n",
    "        self.plot_parametric(lemniscate_bernoulli, t_range, color=YELLOW_B)\n",
    "\n",
    "        \n",
    "     \n",
    "        self.wait(wait_after)\n"
   ]
  },
  {
   "cell_type": "markdown",
   "metadata": {},
   "source": [
    "## Ondas Elipse plot en Manim"
   ]
  },
  {
   "cell_type": "markdown",
   "metadata": {},
   "source": [
    "## Plot y texto "
   ]
  },
  {
   "cell_type": "code",
   "execution_count": null,
   "metadata": {},
   "outputs": [
    {
     "data": {
      "text/plain": [
       "' \\nLos habitantes de Tau vivían en armonía con la naturaleza y las matemáticas eran parte fundamental de la cultura del planeta. \\n$$ $$ \\nSe enseñaban las ideas profundamente, con pasión y arte, tanto para aplicarlas a la creación de tecnologías que avanzan la sociedad,como también para describir el universo  y transmitir de generación en generación los conocimientos e intuiciones fundamentales. \\n\\n$$ $$ \\n\\nEn la descripción del video habrá enlaces a información complementaria, para distintos niveles de familiaridad con los temas tratados. \\n\\n$$ $$ \\n\\n\\n'"
      ]
     },
     "execution_count": 16,
     "metadata": {},
     "output_type": "execute_result"
    }
   ],
   "source": [
    "# imaginar_modelo_tres_cuerpos_1\n",
    "# imaginar_modelo_tres_cuerpos_2\n",
    "# luz_calor_epiciclos_1\n",
    "# luz_calor_epiciclos_2\n",
    "# claudius_elipses_y_simetrias\n",
    "# simetrias_de_claudius\n",
    "# la_obsesion_de_claudius\n",
    "# la_noche_de_los_descubrimientos\n",
    "# intro_a_numeros_compas_1\n",
    "# intro_a_numeros_compas_2\n",
    "# intro_a_numeros_compas_3\n",
    "# intro_a_numeros_compas_4 \n",
    "# describiendo_tau\n",
    "# osciloscopio_lissajous\n",
    "# notacion_usada_en_tau\n",
    "# recordar_exponenciales_complejas_1\n",
    "# recordar_exponenciales_complejas_2\n",
    "# recordar_exponenciales_complejas_3\n",
    "# rotaciones_de_90\n",
    "# recordando_taylor\n",
    "# evaluando_sumatoria_taylor\n",
    "# evaluando_sumatoria_taylor_expresion\n",
    "# seno_impar_coseno_par "
   ]
  },
  {
   "cell_type": "code",
   "execution_count": null,
   "metadata": {},
   "outputs": [
    {
     "name": "stdout",
     "output_type": "stream",
     "text": [
      " \n",
      "Si en un osciloscopio, que normalmente tiene dos canales de entrada que podemos llamar (X,Y) ponemos dos señales sinusoidales distintas, es equivalente a ver la gráfica definida en ecuaciones paramétricas de :\n",
      "\n",
      "$$x(t)=A_x \\sin(\\omega_x t+\\alpha)$$\n",
      "\n",
      "$$y(t)=A_y \\sin(\\omega_y t+\\beta)$$\n",
      "\n",
      "La relación entre las fases de las dos expresiones anteriores se suele llamar :\n",
      "\n",
      "$$\\delta=\\alpha-\\beta$$\n",
      "\n",
      "\n"
     ]
    }
   ],
   "source": [
    "print(osciloscopio_lissajous)"
   ]
  },
  {
   "cell_type": "markdown",
   "metadata": {},
   "source": [
    "## Atlas del tiempo y Números Compas\n",
    "\n",
    "Nos imaginamos un calendario circular usado en Tau. "
   ]
  },
  {
   "cell_type": "code",
   "execution_count": null,
   "metadata": {},
   "outputs": [],
   "source": [
    "### Atlas del tiempo - Calendario circular en Tau \n",
    "\n",
    "atlas_del_tiempo_1=\"\"\"\n",
    "Descripción de variables usadas en Tau para describir el calendario horario :\n",
    "\n",
    "* a para los años\n",
    "\n",
    "* m para los meses\n",
    "\n",
    "* d para los días\n",
    "\n",
    "* h para las horas\n",
    "\n",
    "\"\"\"\n",
    "atlas_del_tiempo_2=\"\"\"\n",
    "$$\\hat a=r_a\\space \\Theta^{\\omega_a a }$$\n",
    "\n",
    "$$\\hat m=r_m\\space \\Theta^{\\omega_m m }$$\n",
    "\n",
    "$$\\hat d=r_d \\space \\Theta^{\\omega_d d }$$\n",
    "\n",
    "$$\\hat h=r_h\\space \\Theta^{\\omega_h h }$$\n",
    "\"\"\"\n",
    "atlas_del_tiempo_3=\"\"\"\n",
    "Siendo \n",
    "\n",
    "$$\\omega_a=\\frac{\\tau}{T_a}$$\n",
    "\n",
    "$$\\omega_m=\\frac{\\tau}{T_m}$$\n",
    "\n",
    "$$\\omega_d=\\frac{\\tau}{T_d}$$\n",
    "\n",
    "$$\\omega_h=\\frac{\\tau}{T_h}$$\n",
    "\n",
    "En Tau llaman  Atlas del Tiempo  a la gráfica paramétrica obtenida combinando como epiciclos las expresiones anteriores: \n",
    "\n",
    "$$\\hat A = \\hat a+\\hat m+\\hat d+\\hat h $$\n",
    "\"\"\" \n",
    "\n"
   ]
  },
  {
   "cell_type": "markdown",
   "metadata": {},
   "source": [
    "# Aproximando la serie de Fourier \n",
    "\n",
    "## Serie de Fourier\n",
    "\n",
    "Discreta:\n",
    "\n",
    "$$x[n] = \\sum_{k=0}^{N-1}c_k e^{i \\omega k n} $$\n",
    "\n",
    "$$c_k = \\frac{1}{N}\\sum_{n=0}^{N-1}x[n]e^{-i \\omega k n}$$\n",
    "\n",
    "$$\\omega = \\frac{2\\pi}{P}$$\n",
    "\n",
    "En tiempo continuo:\n",
    "\n",
    "$$x(t) = \\sum_{n=-\\infty}^{\\infty}c_n e^{i \\omega nt}$$\n",
    "\n",
    "$$c_n = \\int_{-\\frac{P}{2}}^{\\frac{P}{2}}x(t)e^{-i \\omega nt}dt$$\n",
    "\n",
    "Siendo P el período de $x(t)$ asumiendo que es periódica.\n",
    "\n",
    "La transformada de Fourier se puede pensar como calcular los coeficientes, para\n",
    "un período $P$ infinito, con lo que podemos considerar cualquier función sin necesidad de que sea periódica. \n",
    "\n",
    "\n",
    "$$X[k] = \\sum_{n=0}^{N-1} x[n] \\cdot e^{-i  k n \\frac{2\\pi }{N}}$$\n",
    "\n",
    "\n",
    "Si pensamos a $\\omega$ como la variable tenemos : \n",
    "\n",
    "$$ X(\\omega) = \\int_{-\\infty}^{\\infty} x(t) \\cdot e^{-i\\omega t} \\, dt $$\n",
    "\n",
    "\n",
    "\n",
    "Para darnos una idea de la ventaja de comenzar a usar números complejos, podemos ver como simplifica la creación de un código elemental que aproxima la serie para cualquier entrada real o compleja. "
   ]
  },
  {
   "cell_type": "code",
   "execution_count": 91,
   "metadata": {},
   "outputs": [
    {
     "data": {
      "image/png": "[encoded data removed]",
      "text/plain": [
       "<Figure size 1600x800 with 1 Axes>"
      ]
     },
     "metadata": {},
     "output_type": "display_data"
    }
   ],
   "source": [
    "# Aproximando la serie de Fourier (Mirar que pasa al ir aumentando N_terminos desde valores bajos)\n",
    " \n",
    "def coeficiente_n(x, t, dt, Tp, n):\n",
    "    return np.trapz(x*np.exp(-1j*2*np.pi*n*t/Tp),dx=dt)*1/Tp\n",
    "\n",
    "def coeficientes(x, t, dt, Tp, N):\n",
    "    return [coeficiente_n(x, t, dt, Tp, i) for i in range(-N,N)]\n",
    "\n",
    "def aprox_fourier(x, t, dt, Tp, N):\n",
    "    _c=coeficientes(x, t, dt, Tp, N)\n",
    "    out=np.zeros(len(x),dtype='complex')\n",
    "    for k in range(-N,N):\n",
    "        out += _c[N+k]*np.exp(1j*2*np.pi*(k)*t/Tp)\n",
    "    return out\n",
    "\n",
    "Tp = 2\n",
    "w = 0.05 \n",
    "N_terminos=100\n",
    "N = 2**10\n",
    "\n",
    "t = np.linspace(-Tp/2, Tp/2, N)\n",
    "dt = Tp/N\n",
    "\n",
    "pulso = np.zeros(N)\n",
    "pulso[abs(t) <= w*Tp] = 1\n",
    "ruido=0.002*(np.random.rand(N)-0.5)\n",
    "pulso_y_ruido = pulso + ruido \n",
    "plt.figure(figsize=(16,8))\n",
    "aprox_serie_fourier = aprox_fourier(pulso_y_ruido, t, dt, Tp,N_terminos )\n",
    "plt.plot(t, pulso_y_ruido)\n",
    "plt.plot(t, aprox_serie_fourier.real, 'r')\n",
    "\n",
    "plt.show()"
   ]
  },
  {
   "cell_type": "markdown",
   "metadata": {},
   "source": []
  }
 ],
 "metadata": {
  "kernelspec": {
   "display_name": "Python 3",
   "language": "python",
   "name": "python3"
  },
  "language_info": {
   "codemirror_mode": {
    "name": "ipython",
    "version": 3
   },
   "file_extension": ".py",
   "mimetype": "text/x-python",
   "name": "python",
   "nbconvert_exporter": "python",
   "pygments_lexer": "ipython3",
   "version": "3.10.12"
  },
  "orig_nbformat": 4
 },
 "nbformat": 4,
 "nbformat_minor": 2
}
